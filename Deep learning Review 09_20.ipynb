{
 "cells": [
  {
   "cell_type": "code",
   "execution_count": null,
   "id": "1517a088",
   "metadata": {},
   "outputs": [],
   "source": [
    "import tensorflow as tf\n",
    "print(tf.__version__)"
   ]
  },
  {
   "cell_type": "code",
   "execution_count": null,
   "id": "fcfd1bf9",
   "metadata": {},
   "outputs": [],
   "source": [
    "import math"
   ]
  },
  {
   "cell_type": "code",
   "execution_count": null,
   "id": "6d19b174",
   "metadata": {},
   "outputs": [],
   "source": [
    "def sigmoid(x):\n",
    "    return 1/(1+math.exp(-x))"
   ]
  },
  {
   "cell_type": "code",
   "execution_count": null,
   "id": "b49605dd",
   "metadata": {},
   "outputs": [],
   "source": [
    "x = 1\n",
    "w = tf.random.normal([1],0,1)\n",
    "b = tf.random.normal([1],0,1)\n",
    "output = sigmoid(w*x+b)\n",
    "print(w, b)\n",
    "print(output)"
   ]
  },
  {
   "cell_type": "code",
   "execution_count": null,
   "id": "552b5eec",
   "metadata": {},
   "outputs": [],
   "source": [
    "lr = 0.1\n",
    "y = 0\n",
    "for i in range(1000):\n",
    "    output = sigmoid(w*x+b)\n",
    "    error = y - output\n",
    "    g = output*(1-output)\n",
    "    \n",
    "    w = w - lr*g\n",
    "    b = b - lr*g\n",
    "    \n",
    "    if i %100 == 99:\n",
    "        print(i, error, output)"
   ]
  },
  {
   "cell_type": "code",
   "execution_count": null,
   "id": "01ea463f",
   "metadata": {},
   "outputs": [],
   "source": [
    "import numpy as np\n",
    "import tensorflow as tf\n",
    "\n",
    "x = np.array([[1,1], [1,0], [0, 1], [0, 0]])\n",
    "\n",
    "#AND\n",
    "#y = np.array([[1],[0],[0],[0]])\n",
    "#OR\n",
    "#y = np.array([[1],[1],[1],[0]])\n",
    "#XOR\n",
    "y = np.array([[0],[1],[1],[0]])"
   ]
  },
  {
   "cell_type": "code",
   "execution_count": null,
   "id": "dbab5833",
   "metadata": {},
   "outputs": [],
   "source": [
    "model = tf.keras.Sequential([\n",
    "    tf.keras.layers.Dense(units=2, activation='sigmoid', input_shape=(2,)),\n",
    "    tf.keras.layers.Dense(units=1, activation='sigmoid')\n",
    "])\n",
    "\n",
    "model.compile(optimizer=tf.keras.optimizers.SGD(lr=0.3), loss='mse')\n",
    "model.summary()"
   ]
  },
  {
   "cell_type": "code",
   "execution_count": null,
   "id": "2f45a3cc",
   "metadata": {},
   "outputs": [],
   "source": [
    "history = model.fit(x, y, epochs=2000)\n",
    "model.predict(x)"
   ]
  },
  {
   "cell_type": "code",
   "execution_count": null,
   "id": "c19e4805",
   "metadata": {},
   "outputs": [],
   "source": [
    "import matplotlib.pyplot as plt"
   ]
  },
  {
   "cell_type": "code",
   "execution_count": null,
   "id": "11eccf3f",
   "metadata": {},
   "outputs": [],
   "source": [
    "plt.plot(history.history['loss'])"
   ]
  },
  {
   "cell_type": "code",
   "execution_count": null,
   "id": "e7cad0f7",
   "metadata": {},
   "outputs": [],
   "source": []
  }
 ],
 "metadata": {
  "jupytext": {
   "formats": "ipynb,py:light",
   "text_representation": {
    "extension": ".py",
    "format_name": "light",
    "format_version": "1.5",
    "jupytext_version": "1.12.0"
   }
  },
  "kernelspec": {
   "display_name": "tf2.x",
   "language": "python",
   "name": "tf2.x"
  },
  "language_info": {
   "codemirror_mode": {
    "name": "ipython",
    "version": 3
   },
   "file_extension": ".py",
   "mimetype": "text/x-python",
   "name": "python",
   "nbconvert_exporter": "python",
   "pygments_lexer": "ipython3",
   "version": "3.8.8"
  }
 },
 "nbformat": 4,
 "nbformat_minor": 5
}
