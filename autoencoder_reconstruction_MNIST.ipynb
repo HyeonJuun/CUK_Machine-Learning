{
 "cells": [
  {
   "cell_type": "code",
   "execution_count": 1,
   "id": "918c4394",
   "metadata": {},
   "outputs": [
    {
     "name": "stdout",
     "output_type": "stream",
     "text": [
      "2.4.0\n"
     ]
    }
   ],
   "source": [
    "try:\n",
    "    %tensorflow_version 2.x\n",
    "except Exception:\n",
    "    pass\n",
    "import tensorflow as tf\n",
    "import numpy as np\n",
    "import matplotlib.pyplot as plt\n",
    "import random\n",
    "\n",
    "print(tf.__version__)"
   ]
  },
  {
   "cell_type": "code",
   "execution_count": 3,
   "id": "6e78d5ef",
   "metadata": {},
   "outputs": [
    {
     "name": "stdout",
     "output_type": "stream",
     "text": [
      "(60000, 28, 28) (60000,)\n"
     ]
    }
   ],
   "source": [
    "# MNIST 데이터세트 불러오기\n",
    "(train_X, train_Y), (test_X, test_Y) = tf.keras.datasets.mnist.load_data()\n",
    "print(train_X.shape, train_Y.shape)\n",
    "train_X = train_X / 255.0\n",
    "test_X = test_X / 255.0\n"
   ]
  },
  {
   "cell_type": "code",
   "execution_count": 4,
   "id": "7a2bf173",
   "metadata": {},
   "outputs": [
    {
     "data": {
      "image/png": "[encoded data removed]",
      "text/plain": [
       "<Figure size 432x288 with 2 Axes>"
      ]
     },
     "metadata": {
      "needs_background": "light"
     },
     "output_type": "display_data"
    },
    {
     "name": "stdout",
     "output_type": "stream",
     "text": [
      "5\n"
     ]
    }
   ],
   "source": [
    "# MNIST 데이터세트 확인\n",
    "plt.imshow(train_X[0].reshape(28, 28), cmap='gray')\n",
    "plt.colorbar()\n",
    "plt.show()\n",
    "print(train_Y[0])"
   ]
  },
  {
   "cell_type": "code",
   "execution_count": 5,
   "id": "f6f8b4cf",
   "metadata": {},
   "outputs": [
    {
     "name": "stdout",
     "output_type": "stream",
     "text": [
      "(60000, 784) (60000,)\n",
      "Model: \"sequential\"\n",
      "_________________________________________________________________\n",
      "Layer (type)                 Output Shape              Param #   \n",
      "=================================================================\n",
      "dense (Dense)                (None, 784)               615440    \n",
      "_________________________________________________________________\n",
      "dense_1 (Dense)              (None, 64)                50240     \n",
      "_________________________________________________________________\n",
      "dense_2 (Dense)              (None, 784)               50960     \n",
      "=================================================================\n",
      "Total params: 716,640\n",
      "Trainable params: 716,640\n",
      "Non-trainable params: 0\n",
      "_________________________________________________________________\n"
     ]
    },
    {
     "data": {
      "text/plain": [
       "<tensorflow.python.keras.callbacks.History at 0x1d039f15070>"
      ]
     },
     "execution_count": 5,
     "metadata": {},
     "output_type": "execute_result"
    }
   ],
   "source": [
    "# Dense 오토인코더 모델 정의\n",
    "train_X = train_X.reshape(-1, 28*28)\n",
    "test_X = test_X.reshape(-1, 28*28)\n",
    "print(train_X.shape, train_Y.shape)\n",
    "\n",
    "model = tf.keras.Sequential([\n",
    "    tf.keras.layers.Dense(784, activation='relu', input_shape=(784,)),\n",
    "    #tf.keras.layers.Dense(128, activation='relu'),\n",
    "    tf.keras.layers.Dense(64, activation='relu'),\n",
    "    #tf.keras.layers.Dense(128, activation='relu'),\n",
    "    tf.keras.layers.Dense(784, activation='sigmoid')\n",
    "])\n",
    "model.compile(optimizer=tf.optimizers.Adam(), loss='mse')\n",
    "model.summary()\n",
    "\n",
    "# Dense 오토인코더 모델 학습\n",
    "model.fit(train_X, train_X, epochs=10, batch_size=256, verbose=0)"
   ]
  },
  {
   "cell_type": "code",
   "execution_count": 6,
   "id": "56d92c11",
   "metadata": {},
   "outputs": [
    {
     "data": {
      "image/png": "[encoded data removed]",
      "text/plain": [
       "<Figure size 288x576 with 8 Axes>"
      ]
     },
     "metadata": {
      "needs_background": "light"
     },
     "output_type": "display_data"
    }
   ],
   "source": [
    "# test 데이터로 Dense 오토인코더의 이미지 재생성\n",
    "plt.figure(figsize=(4, 8))\n",
    "for c in range(4):\n",
    "    plt.subplot(4, 2, c*2+1)\n",
    "    rand_index = random.randint(0, test_X.shape[0])\n",
    "    plt.imshow(test_X[rand_index].reshape(28, 28), cmap='gray')\n",
    "    plt.axis('off')\n",
    "    \n",
    "    plt.subplot(4, 2, c*2+2)\n",
    "    img = model.predict(np.expand_dims(test_X[rand_index], axis=0))\n",
    "    plt.imshow(img.reshape(28, 28), cmap='gray')\n",
    "    plt.axis('off')\n",
    "\n",
    "plt.show()\n",
    "\n",
    "#model.evaluate(test_X, test_X)"
   ]
  },
  {
   "cell_type": "code",
   "execution_count": null,
   "id": "4ee93d99",
   "metadata": {},
   "outputs": [],
   "source": []
  }
 ],
 "metadata": {
  "kernelspec": {
   "display_name": "tf2.x",
   "language": "python",
   "name": "tf2.x"
  },
  "language_info": {
   "codemirror_mode": {
    "name": "ipython",
    "version": 3
   },
   "file_extension": ".py",
   "mimetype": "text/x-python",
   "name": "python",
   "nbconvert_exporter": "python",
   "pygments_lexer": "ipython3",
   "version": "3.8.8"
  }
 },
 "nbformat": 4,
 "nbformat_minor": 5
}
