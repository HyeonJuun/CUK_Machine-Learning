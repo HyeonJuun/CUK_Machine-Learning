{
 "cells": [
  {
   "cell_type": "code",
   "execution_count": 1,
   "id": "2cb00fb6",
   "metadata": {},
   "outputs": [
    {
     "name": "stdout",
     "output_type": "stream",
     "text": [
      "2.4.0\n"
     ]
    }
   ],
   "source": [
    "import tensorflow as tf\n",
    "import numpy as np\n",
    "import matplotlib.pyplot as plt\n",
    "from sklearn.datasets import load_iris\n",
    "from sklearn.model_selection import train_test_split\n",
    "\n",
    "print(tf.__version__)"
   ]
  },
  {
   "cell_type": "code",
   "execution_count": 2,
   "id": "a00cc003",
   "metadata": {},
   "outputs": [
    {
     "name": "stdout",
     "output_type": "stream",
     "text": [
      "dict_keys(['data', 'target', 'frame', 'target_names', 'DESCR', 'feature_names', 'filename', 'data_module'])\n"
     ]
    }
   ],
   "source": [
    "#iris 데이터셋 활용\n",
    "iris = load_iris()\n",
    "\n",
    "#데이터 확인\n",
    "print(iris.keys())"
   ]
  },
  {
   "cell_type": "code",
   "execution_count": 3,
   "id": "8692c365",
   "metadata": {},
   "outputs": [
    {
     "name": "stdout",
     "output_type": "stream",
     "text": [
      "(150, 4)\n",
      "(150,)\n",
      "(120, 4)\n",
      "(30, 4)\n"
     ]
    }
   ],
   "source": [
    "# input, output 분리\n",
    "X = iris['data']\n",
    "y = iris['target']\n",
    "\n",
    "print(X.shape)\n",
    "print(y.shape)\n",
    "\n",
    "# 개발/검증 분리\n",
    "# stratify : y 라벨 비중 유지\n",
    "trainX, testX, trainY, testY = train_test_split(X, y, test_size=0.2, stratify=y, random_state=1)\n",
    "\n",
    "print(trainX.shape)\n",
    "print(testX.shape)"
   ]
  },
  {
   "cell_type": "code",
   "execution_count": 5,
   "id": "3c527a0f",
   "metadata": {},
   "outputs": [
    {
     "name": "stdout",
     "output_type": "stream",
     "text": [
      "Model: \"sequential\"\n",
      "_________________________________________________________________\n",
      "Layer (type)                 Output Shape              Param #   \n",
      "=================================================================\n",
      "dense (Dense)                (None, 64)                320       \n",
      "_________________________________________________________________\n",
      "batch_normalization (BatchNo (None, 64)                256       \n",
      "_________________________________________________________________\n",
      "dense_1 (Dense)              (None, 128)               8320      \n",
      "_________________________________________________________________\n",
      "batch_normalization_1 (Batch (None, 128)               512       \n",
      "_________________________________________________________________\n",
      "dense_2 (Dense)              (None, 128)               16512     \n",
      "_________________________________________________________________\n",
      "batch_normalization_2 (Batch (None, 128)               512       \n",
      "_________________________________________________________________\n",
      "dense_3 (Dense)              (None, 64)                8256      \n",
      "_________________________________________________________________\n",
      "batch_normalization_3 (Batch (None, 64)                256       \n",
      "_________________________________________________________________\n",
      "dense_4 (Dense)              (None, 64)                4160      \n",
      "_________________________________________________________________\n",
      "batch_normalization_4 (Batch (None, 64)                256       \n",
      "_________________________________________________________________\n",
      "dense_5 (Dense)              (None, 3)                 195       \n",
      "=================================================================\n",
      "Total params: 39,555\n",
      "Trainable params: 38,659\n",
      "Non-trainable params: 896\n",
      "_________________________________________________________________\n",
      "Epoch 1/30\n",
      "8/8 [==============================] - 1s 2ms/step - loss: 1.1163 - accuracy: 0.4790\n",
      "Epoch 2/30\n",
      "8/8 [==============================] - 0s 2ms/step - loss: 0.2656 - accuracy: 0.9051\n",
      "Epoch 3/30\n",
      "8/8 [==============================] - 0s 2ms/step - loss: 0.1860 - accuracy: 0.9444\n",
      "Epoch 4/30\n",
      "8/8 [==============================] - 0s 2ms/step - loss: 0.1061 - accuracy: 0.9764\n",
      "Epoch 5/30\n",
      "8/8 [==============================] - 0s 2ms/step - loss: 0.1677 - accuracy: 0.9484\n",
      "Epoch 6/30\n",
      "8/8 [==============================] - 0s 2ms/step - loss: 0.1872 - accuracy: 0.9217\n",
      "Epoch 7/30\n",
      "8/8 [==============================] - 0s 2ms/step - loss: 0.1526 - accuracy: 0.9349\n",
      "Epoch 8/30\n",
      "8/8 [==============================] - 0s 2ms/step - loss: 0.2053 - accuracy: 0.9155\n",
      "Epoch 9/30\n",
      "8/8 [==============================] - 0s 2ms/step - loss: 0.2077 - accuracy: 0.9017\n",
      "Epoch 10/30\n",
      "8/8 [==============================] - 0s 2ms/step - loss: 0.1333 - accuracy: 0.9442\n",
      "Epoch 11/30\n",
      "8/8 [==============================] - 0s 2ms/step - loss: 0.1490 - accuracy: 0.9455\n",
      "Epoch 12/30\n",
      "8/8 [==============================] - 0s 2ms/step - loss: 0.1493 - accuracy: 0.9500\n",
      "Epoch 13/30\n",
      "8/8 [==============================] - 0s 2ms/step - loss: 0.0599 - accuracy: 0.9754\n",
      "Epoch 14/30\n",
      "8/8 [==============================] - 0s 2ms/step - loss: 0.1129 - accuracy: 0.9354\n",
      "Epoch 15/30\n",
      "8/8 [==============================] - 0s 2ms/step - loss: 0.0973 - accuracy: 0.9507\n",
      "Epoch 16/30\n",
      "8/8 [==============================] - 0s 2ms/step - loss: 0.0479 - accuracy: 0.9872\n",
      "Epoch 17/30\n",
      "8/8 [==============================] - 0s 2ms/step - loss: 0.1559 - accuracy: 0.9560\n",
      "Epoch 18/30\n",
      "8/8 [==============================] - 0s 2ms/step - loss: 0.1545 - accuracy: 0.9382\n",
      "Epoch 19/30\n",
      "8/8 [==============================] - 0s 2ms/step - loss: 0.2467 - accuracy: 0.8615\n",
      "Epoch 20/30\n",
      "8/8 [==============================] - 0s 2ms/step - loss: 0.2465 - accuracy: 0.9109\n",
      "Epoch 21/30\n",
      "8/8 [==============================] - 0s 2ms/step - loss: 0.1666 - accuracy: 0.9716\n",
      "Epoch 22/30\n",
      "8/8 [==============================] - 0s 2ms/step - loss: 0.2859 - accuracy: 0.8735\n",
      "Epoch 23/30\n",
      "8/8 [==============================] - 0s 2ms/step - loss: 0.1498 - accuracy: 0.9753\n",
      "Epoch 24/30\n",
      "8/8 [==============================] - 0s 2ms/step - loss: 0.1278 - accuracy: 0.9643\n",
      "Epoch 25/30\n",
      "8/8 [==============================] - 0s 2ms/step - loss: 0.2202 - accuracy: 0.9309\n",
      "Epoch 26/30\n",
      "8/8 [==============================] - 0s 2ms/step - loss: 0.1147 - accuracy: 0.9710\n",
      "Epoch 27/30\n",
      "8/8 [==============================] - 0s 2ms/step - loss: 0.3214 - accuracy: 0.8939\n",
      "Epoch 28/30\n",
      "8/8 [==============================] - 0s 2ms/step - loss: 0.1226 - accuracy: 0.9833\n",
      "Epoch 29/30\n",
      "8/8 [==============================] - 0s 2ms/step - loss: 0.1472 - accuracy: 0.9283\n",
      "Epoch 30/30\n",
      "8/8 [==============================] - 0s 2ms/step - loss: 0.1957 - accuracy: 0.9218\n"
     ]
    }
   ],
   "source": [
    "# 빈 모델을 선언\n",
    "model = tf.keras.models.Sequential()\n",
    "\n",
    "# 빈 모델에 첫번째 layer 추가\n",
    "# units에는 hidden node 갯수를 명시하고, input 차원에 train 데이터의 차원을 입력\n",
    "model.add(tf.keras.layers.Dense(units=64, input_dim=trainX.shape[1], activation='relu'))\n",
    "model.add(tf.keras.layers.BatchNormalization())\n",
    "\n",
    "model.add(tf.keras.layers.Dense(units=128, input_dim=trainX.shape[1], activation='relu'))\n",
    "model.add(tf.keras.layers.BatchNormalization())\n",
    "\n",
    "model.add(tf.keras.layers.Dense(units=128, input_dim=trainX.shape[1], activation='relu'))\n",
    "model.add(tf.keras.layers.BatchNormalization())\n",
    "\n",
    "model.add(tf.keras.layers.Dense(units=64, input_dim=trainX.shape[1], activation='relu'))\n",
    "model.add(tf.keras.layers.BatchNormalization())\n",
    "\n",
    "model.add(tf.keras.layers.Dense(units=64, input_dim=trainX.shape[1], activation='relu'))\n",
    "model.add(tf.keras.layers.BatchNormalization(\n",
    "    momentum = 0.95,\n",
    "    epsilon = 0.005,\n",
    "    beta_initializer = tf.keras.initializers.RandomNormal(mean=0.0, stddev = 0.05),\n",
    "    gamma_initializer = tf.keras.initializers.Constant(value=0.9)\n",
    "))\n",
    "\n",
    "\n",
    "model.add(tf.keras.layers.Dense(units=3, activation='softmax'))\n",
    "\n",
    "optimizer = tf.keras.optimizers.SGD(learning_rate=0.01, momentum=0.9, nesterov=True)\n",
    "model.compile(optimizer = optimizer, loss='categorical_crossentropy', metrics=['accuracy'])\n",
    "model.summary()\n",
    "\n",
    "# target을 범주화\n",
    "trainY_onehot = tf.keras.utils.to_categorical(trainY)\n",
    "history = model.fit(trainX, trainY_onehot, batch_size=16, epochs=30)"
   ]
  },
  {
   "cell_type": "code",
   "execution_count": 6,
   "id": "afb33d23",
   "metadata": {},
   "outputs": [
    {
     "name": "stdout",
     "output_type": "stream",
     "text": [
      "1/1 [==============================] - 0s 233ms/step - loss: 0.2098 - accuracy: 0.8667\n"
     ]
    }
   ],
   "source": [
    "testY_onehot = tf.keras.utils.to_categorical(testY)\n",
    "results = model.evaluate(testX, testY_onehot)"
   ]
  },
  {
   "cell_type": "code",
   "execution_count": null,
   "id": "5c365550",
   "metadata": {},
   "outputs": [],
   "source": []
  }
 ],
 "metadata": {
  "kernelspec": {
   "display_name": "tf2.x",
   "language": "python",
   "name": "tf2.x"
  },
  "language_info": {
   "codemirror_mode": {
    "name": "ipython",
    "version": 3
   },
   "file_extension": ".py",
   "mimetype": "text/x-python",
   "name": "python",
   "nbconvert_exporter": "python",
   "pygments_lexer": "ipython3",
   "version": "3.8.12"
  }
 },
 "nbformat": 4,
 "nbformat_minor": 5
}
