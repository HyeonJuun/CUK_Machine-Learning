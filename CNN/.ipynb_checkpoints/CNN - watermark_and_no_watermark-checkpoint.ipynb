{
 "cells": [
  {
   "cell_type": "code",
   "execution_count": 1,
   "id": "36c37153",
   "metadata": {},
   "outputs": [
    {
     "name": "stdout",
     "output_type": "stream",
     "text": [
      "2.4.0\n"
     ]
    }
   ],
   "source": [
    "import warnings\n",
    "warnings.filterwarnings('ignore')\n",
    "\n",
    "try:\n",
    "    %tensorflow_version 2.x\n",
    "except Exception:\n",
    "    pass\n",
    "\n",
    "import tensorflow as tf\n",
    "import numpy as np\n",
    "import matplotlib.pyplot as plt\n",
    "from tensorflow.keras.preprocessing.image import ImageDataGenerator\n",
    "import os\n",
    "\n",
    "print(tf.__version__)"
   ]
  },
  {
   "cell_type": "code",
   "execution_count": 2,
   "id": "7fd0b824",
   "metadata": {},
   "outputs": [],
   "source": [
    "train_dir = './datasets/wm_nowm/train_small'\n",
    "train_no_water_dir = os.path.join(train_dir, 'no_watermark')\n",
    "train_water_dir = os.path.join(train_dir, 'watermark')\n",
    "\n",
    "test_dir = './datasets/wm_nowm/test_small'\n",
    "test_no_water_dir = os.path.join(test_dir, 'no_watermark')\n",
    "test_water_dir = os.path.join(test_dir, 'watermark')"
   ]
  },
  {
   "cell_type": "code",
   "execution_count": 3,
   "id": "7d226673",
   "metadata": {},
   "outputs": [
    {
     "name": "stdout",
     "output_type": "stream",
     "text": [
      "Found 2000 images belonging to 2 classes.\n",
      "Found 1000 images belonging to 2 classes.\n"
     ]
    }
   ],
   "source": [
    "# 데이터 전처리\n",
    "# 1/255 스케일\n",
    "train_datagen = ImageDataGenerator(rescale=1./255, shear_range=0.2, zoom_range=0.2, horizontal_flip=True)\n",
    "test_datagen = ImageDataGenerator(rescale=1./255)\n",
    "\n",
    "train_generator = train_datagen.flow_from_directory(train_dir, target_size=(150, 150), \n",
    "                                                    batch_size=20, class_mode='binary')\n",
    "\n",
    "test_generator = test_datagen.flow_from_directory(test_dir, target_size=(150, 150), \n",
    "                                                    batch_size=20, class_mode='binary')"
   ]
  },
  {
   "cell_type": "code",
   "execution_count": 4,
   "id": "f49a9143",
   "metadata": {},
   "outputs": [
    {
     "name": "stdout",
     "output_type": "stream",
     "text": [
      "배치 데이터 크기: (20, 150, 150, 3)\n",
      "배치 레이블 크기: (20,)\n"
     ]
    }
   ],
   "source": [
    "for data_batch, labels_batch in train_generator:\n",
    "    print('배치 데이터 크기:',data_batch.shape)\n",
    "    print(\"배치 레이블 크기:\",labels_batch.shape)\n",
    "    break"
   ]
  },
  {
   "cell_type": "code",
   "execution_count": 5,
   "id": "62787bd0",
   "metadata": {
    "scrolled": false
   },
   "outputs": [
    {
     "name": "stdout",
     "output_type": "stream",
     "text": [
      "Model: \"sequential\"\n",
      "_________________________________________________________________\n",
      "Layer (type)                 Output Shape              Param #   \n",
      "=================================================================\n",
      "conv2d (Conv2D)              (None, 148, 148, 32)      896       \n",
      "_________________________________________________________________\n",
      "max_pooling2d (MaxPooling2D) (None, 74, 74, 32)        0         \n",
      "_________________________________________________________________\n",
      "conv2d_1 (Conv2D)            (None, 72, 72, 64)        18496     \n",
      "_________________________________________________________________\n",
      "max_pooling2d_1 (MaxPooling2 (None, 36, 36, 64)        0         \n",
      "_________________________________________________________________\n",
      "conv2d_2 (Conv2D)            (None, 34, 34, 128)       73856     \n",
      "_________________________________________________________________\n",
      "flatten (Flatten)            (None, 147968)            0         \n",
      "_________________________________________________________________\n",
      "dense (Dense)                (None, 128)               18940032  \n",
      "_________________________________________________________________\n",
      "dropout (Dropout)            (None, 128)               0         \n",
      "_________________________________________________________________\n",
      "dense_1 (Dense)              (None, 1)                 129       \n",
      "=================================================================\n",
      "Total params: 19,033,409\n",
      "Trainable params: 19,033,409\n",
      "Non-trainable params: 0\n",
      "_________________________________________________________________\n",
      "Epoch 1/20\n",
      "100/100 [==============================] - 37s 366ms/step - loss: 0.0000e+00 - accuracy: 0.5061\n",
      "Epoch 2/20\n",
      "100/100 [==============================] - 30s 301ms/step - loss: 0.0000e+00 - accuracy: 0.4881\n",
      "Epoch 3/20\n",
      "100/100 [==============================] - 33s 327ms/step - loss: 0.0000e+00 - accuracy: 0.5007\n",
      "Epoch 4/20\n",
      "100/100 [==============================] - 33s 326ms/step - loss: 0.0000e+00 - accuracy: 0.5050\n",
      "Epoch 5/20\n",
      "100/100 [==============================] - 32s 317ms/step - loss: 0.0000e+00 - accuracy: 0.5138\n",
      "Epoch 6/20\n",
      "100/100 [==============================] - 32s 315ms/step - loss: 0.0000e+00 - accuracy: 0.5188\n",
      "Epoch 7/20\n",
      "100/100 [==============================] - 34s 341ms/step - loss: 0.0000e+00 - accuracy: 0.5173\n",
      "Epoch 8/20\n",
      "100/100 [==============================] - 35s 344ms/step - loss: 0.0000e+00 - accuracy: 0.4952\n",
      "Epoch 9/20\n",
      "100/100 [==============================] - 33s 328ms/step - loss: 0.0000e+00 - accuracy: 0.5104\n",
      "Epoch 10/20\n",
      "100/100 [==============================] - 34s 343ms/step - loss: 0.0000e+00 - accuracy: 0.4972\n",
      "Epoch 11/20\n",
      "100/100 [==============================] - 34s 336ms/step - loss: 0.0000e+00 - accuracy: 0.4955\n",
      "Epoch 12/20\n",
      "100/100 [==============================] - 38s 379ms/step - loss: 0.0000e+00 - accuracy: 0.5019\n",
      "Epoch 13/20\n",
      "100/100 [==============================] - 38s 380ms/step - loss: 0.0000e+00 - accuracy: 0.4976\n",
      "Epoch 14/20\n",
      "100/100 [==============================] - 37s 364ms/step - loss: 0.0000e+00 - accuracy: 0.5013\n",
      "Epoch 15/20\n",
      "100/100 [==============================] - 36s 356ms/step - loss: 0.0000e+00 - accuracy: 0.4843\n",
      "Epoch 16/20\n",
      "100/100 [==============================] - 36s 358ms/step - loss: 0.0000e+00 - accuracy: 0.4926\n",
      "Epoch 17/20\n",
      "100/100 [==============================] - 35s 353ms/step - loss: 0.0000e+00 - accuracy: 0.4768\n",
      "Epoch 18/20\n",
      "100/100 [==============================] - 37s 364ms/step - loss: 0.0000e+00 - accuracy: 0.4975\n",
      "Epoch 19/20\n",
      "100/100 [==============================] - 35s 352ms/step - loss: 0.0000e+00 - accuracy: 0.4872\n",
      "Epoch 20/20\n",
      "100/100 [==============================] - 36s 357ms/step - loss: 0.0000e+00 - accuracy: 0.4741\n"
     ]
    }
   ],
   "source": [
    "model = tf.keras.Sequential([\n",
    "    tf.keras.layers.Conv2D(input_shape=(150, 150, 3), kernel_size=(3,3),filters=32),\n",
    "    tf.keras.layers.MaxPool2D(strides=(2,2)),\n",
    "    tf.keras.layers.Conv2D(kernel_size=(3,3),filters=64),\n",
    "    tf.keras.layers.MaxPool2D(strides=(2,2)),\n",
    "    tf.keras.layers.Conv2D(kernel_size=(3,3),filters=128),\n",
    "    tf.keras.layers.Flatten(),\n",
    "    tf.keras.layers.Dense(units=128, activation='relu'),\n",
    "    tf.keras.layers.Dropout(rate=0.3),\n",
    "    tf.keras.layers.Dense(units=1, activation='sigmoid')\n",
    "])\n",
    "\n",
    "model.compile(optimizer=tf.keras.optimizers.Adam(), loss='categorical_crossentropy', metrics=['accuracy'])\n",
    "model.summary()\n",
    "history = model.fit(train_generator, steps_per_epoch=100, epochs=20)"
   ]
  },
  {
   "cell_type": "code",
   "execution_count": 6,
   "id": "b55606b7",
   "metadata": {},
   "outputs": [
    {
     "data": {
      "text/plain": [
       "[0.0, 0.5]"
      ]
     },
     "execution_count": 6,
     "metadata": {},
     "output_type": "execute_result"
    }
   ],
   "source": [
    "model.evaluate(test_generator, verbose=0)"
   ]
  },
  {
   "cell_type": "code",
   "execution_count": null,
   "id": "231a432a",
   "metadata": {},
   "outputs": [],
   "source": []
  }
 ],
 "metadata": {
  "kernelspec": {
   "display_name": "tf2.x",
   "language": "python",
   "name": "tf2.x"
  },
  "language_info": {
   "codemirror_mode": {
    "name": "ipython",
    "version": 3
   },
   "file_extension": ".py",
   "mimetype": "text/x-python",
   "name": "python",
   "nbconvert_exporter": "python",
   "pygments_lexer": "ipython3",
   "version": "3.8.12"
  }
 },
 "nbformat": 4,
 "nbformat_minor": 5
}
