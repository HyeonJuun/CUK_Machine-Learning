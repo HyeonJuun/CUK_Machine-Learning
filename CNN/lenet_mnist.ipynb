{
 "cells": [
  {
   "cell_type": "code",
   "execution_count": 1,
   "id": "739acb14",
   "metadata": {},
   "outputs": [],
   "source": [
    "from sklearn.preprocessing import LabelBinarizer\n",
    "from sklearn.metrics import classification_report\n",
    "from lenet import LeNet\n",
    "from tensorflow.keras.optimizers import SGD \n",
    "from tensorflow.keras.datasets import mnist\n",
    "from tensorflow.keras import backend as K\n",
    "\n",
    "import tensorflow as tf\n",
    "import numpy as np\n",
    "import matplotlib.pyplot as plt"
   ]
  },
  {
   "cell_type": "code",
   "execution_count": 2,
   "id": "b299a943",
   "metadata": {},
   "outputs": [
    {
     "name": "stdout",
     "output_type": "stream",
     "text": [
      "[INFO] accessing MNIST...\n",
      "(60000, 28, 28)\n",
      "(60000, 28, 28, 1)\n"
     ]
    }
   ],
   "source": [
    "print(\"[INFO] accessing MNIST...\")\n",
    "((trainData, trainLabels), (testData, testLabels)) = mnist.load_data()\n",
    "\n",
    "print(trainData.shape)\n",
    "\n",
    "trainData = trainData.reshape((trainData.shape[0], 28, 28, 1))\n",
    "testData = testData.reshape((testData.shape[0], 28, 28, 1))\n",
    "\n",
    "print(trainData.shape)\n",
    "\n",
    "# scale data to the range of [0, 1]\n",
    "trainData = trainData.astype(\"float32\") / 255.0\n",
    "testData = testData.astype(\"float32\") / 255.0\n",
    "\n",
    "\n",
    "# convert the labels from integers to vectors\n",
    "# lb = LabelBinarizer()\n",
    "# trainLabels = lb.fit_transform(trainLabels)\n",
    "# testLabels = lb.transform(testLabels)\n",
    "numclass = 10\n",
    "trainLabels = tf.keras.utils.to_categorical(trainLabels, num_classes = numclass)\n",
    "testLabels = tf.keras.utils.to_categorical(testLabels, num_classes = numclass)"
   ]
  },
  {
   "cell_type": "code",
   "execution_count": 3,
   "id": "09f08aa4",
   "metadata": {},
   "outputs": [
    {
     "name": "stdout",
     "output_type": "stream",
     "text": [
      "[INFO] compiling model...\n",
      "[INFO] training network...\n",
      "Epoch 1/20\n",
      "469/469 [==============================] - 32s 68ms/step - loss: 1.5354 - accuracy: 0.5842 - val_loss: 0.2943 - val_accuracy: 0.9167\n",
      "Epoch 2/20\n",
      "469/469 [==============================] - 30s 65ms/step - loss: 0.2763 - accuracy: 0.9215 - val_loss: 0.1902 - val_accuracy: 0.9453\n",
      "Epoch 3/20\n",
      "469/469 [==============================] - 30s 64ms/step - loss: 0.1878 - accuracy: 0.9445 - val_loss: 0.1403 - val_accuracy: 0.9599\n",
      "Epoch 4/20\n",
      "469/469 [==============================] - 30s 64ms/step - loss: 0.1482 - accuracy: 0.9555 - val_loss: 0.1245 - val_accuracy: 0.9621\n",
      "Epoch 5/20\n",
      "469/469 [==============================] - 29s 63ms/step - loss: 0.1172 - accuracy: 0.9651 - val_loss: 0.0942 - val_accuracy: 0.9717\n",
      "Epoch 6/20\n",
      "469/469 [==============================] - 29s 62ms/step - loss: 0.0998 - accuracy: 0.9716 - val_loss: 0.0900 - val_accuracy: 0.9726\n",
      "Epoch 7/20\n",
      "469/469 [==============================] - 30s 63ms/step - loss: 0.0883 - accuracy: 0.9747 - val_loss: 0.0785 - val_accuracy: 0.9761\n",
      "Epoch 8/20\n",
      "469/469 [==============================] - 30s 64ms/step - loss: 0.0814 - accuracy: 0.9763 - val_loss: 0.0707 - val_accuracy: 0.9770\n",
      "Epoch 9/20\n",
      "469/469 [==============================] - 30s 64ms/step - loss: 0.0702 - accuracy: 0.9789 - val_loss: 0.0634 - val_accuracy: 0.9788\n",
      "Epoch 10/20\n",
      "469/469 [==============================] - 30s 64ms/step - loss: 0.0642 - accuracy: 0.9808 - val_loss: 0.0589 - val_accuracy: 0.9806\n",
      "Epoch 11/20\n",
      "469/469 [==============================] - 30s 64ms/step - loss: 0.0619 - accuracy: 0.9813 - val_loss: 0.0536 - val_accuracy: 0.9829\n",
      "Epoch 12/20\n",
      "469/469 [==============================] - 30s 64ms/step - loss: 0.0582 - accuracy: 0.9830 - val_loss: 0.0513 - val_accuracy: 0.9834\n",
      "Epoch 13/20\n",
      "469/469 [==============================] - 30s 63ms/step - loss: 0.0529 - accuracy: 0.9839 - val_loss: 0.0487 - val_accuracy: 0.9839\n",
      "Epoch 14/20\n",
      "469/469 [==============================] - 29s 62ms/step - loss: 0.0504 - accuracy: 0.9855 - val_loss: 0.0520 - val_accuracy: 0.9830\n",
      "Epoch 15/20\n",
      "469/469 [==============================] - 29s 63ms/step - loss: 0.0504 - accuracy: 0.9852 - val_loss: 0.0482 - val_accuracy: 0.9830\n",
      "Epoch 16/20\n",
      "469/469 [==============================] - 29s 61ms/step - loss: 0.0476 - accuracy: 0.9855 - val_loss: 0.0434 - val_accuracy: 0.9855\n",
      "Epoch 17/20\n",
      "469/469 [==============================] - 30s 64ms/step - loss: 0.0456 - accuracy: 0.9862 - val_loss: 0.0488 - val_accuracy: 0.9836\n",
      "Epoch 18/20\n",
      "469/469 [==============================] - 31s 65ms/step - loss: 0.0436 - accuracy: 0.9872 - val_loss: 0.0423 - val_accuracy: 0.9861\n",
      "Epoch 19/20\n",
      "469/469 [==============================] - 30s 65ms/step - loss: 0.0414 - accuracy: 0.9872 - val_loss: 0.0401 - val_accuracy: 0.9863\n",
      "Epoch 20/20\n",
      "469/469 [==============================] - 29s 61ms/step - loss: 0.0387 - accuracy: 0.9884 - val_loss: 0.0387 - val_accuracy: 0.9860\n"
     ]
    }
   ],
   "source": [
    "# initialize the optimizer and model\n",
    "print(\"[INFO] compiling model...\")\n",
    "opt = SGD(lr=0.01)\n",
    "model = LeNet.build(width=28, height=28, depth=1, classes=numclass)\n",
    "model.compile(loss=\"categorical_crossentropy\", optimizer=opt, metrics=[\"accuracy\"])\n",
    "\n",
    "# train the network\n",
    "print(\"[INFO] training network...\")\n",
    "H = model.fit(trainData, trainLabels, validation_data=(testData, testLabels), batch_size=128, epochs=20, verbose=1)"
   ]
  },
  {
   "cell_type": "code",
   "execution_count": 6,
   "id": "1690d4e4",
   "metadata": {},
   "outputs": [
    {
     "name": "stdout",
     "output_type": "stream",
     "text": [
      "[INFO] evaluating network...\n",
      "              precision    recall  f1-score   support\n",
      "\n",
      "           0       0.98      0.99      0.99       980\n",
      "           1       0.99      0.99      0.99      1135\n",
      "           2       0.99      0.98      0.99      1032\n",
      "           3       0.99      0.98      0.99      1010\n",
      "           4       0.99      0.99      0.99       982\n",
      "           5       0.99      0.98      0.99       892\n",
      "           6       0.99      0.99      0.99       958\n",
      "           7       0.99      0.98      0.98      1028\n",
      "           8       0.97      0.98      0.98       974\n",
      "           9       0.98      0.98      0.98      1009\n",
      "\n",
      "    accuracy                           0.99     10000\n",
      "   macro avg       0.99      0.99      0.99     10000\n",
      "weighted avg       0.99      0.99      0.99     10000\n",
      "\n"
     ]
    },
    {
     "data": {
      "image/png": "[encoded data removed]",
      "text/plain": [
       "<Figure size 432x288 with 1 Axes>"
      ]
     },
     "metadata": {},
     "output_type": "display_data"
    }
   ],
   "source": [
    "# evaluate the network\n",
    "print(\"[INFO] evaluating network...\")\n",
    "predictions = model.predict(testData, batch_size=128)\n",
    "cr = classification_report(testLabels.argmax(axis=1), predictions.argmax(axis=1),\n",
    "                           target_names=[str(x) for x in range(numclass)])\n",
    "print(cr)\n",
    "\n",
    "# plot the trining loss and accuracy\n",
    "plt.style.use(\"ggplot\")\n",
    "plt.figure()\n",
    "plt.plot(np.arange(0, 20), H.history[\"loss\"], label=\"train_loss\")\n",
    "plt.plot(np.arange(0, 20), H.history[\"val_loss\"], label=\"val_loss\")\n",
    "plt.plot(np.arange(0, 20), H.history[\"accuracy\"], label=\"train_acc\")\n",
    "plt.plot(np.arange(0, 20), H.history[\"val_accuracy\"], label=\"val_acc\")\n",
    "plt.title(\"Training Loss and Accuracy\")\n",
    "plt.xlabel(\"Epoch #\")\n",
    "plt.ylabel(\"Loss/Accuracy\")\n",
    "plt.legend()\n",
    "plt.show()"
   ]
  },
  {
   "cell_type": "code",
   "execution_count": 7,
   "id": "5daec814",
   "metadata": {},
   "outputs": [
    {
     "data": {
      "text/plain": [
       "[0.038662753999233246, 0.9860000014305115]"
      ]
     },
     "execution_count": 7,
     "metadata": {},
     "output_type": "execute_result"
    }
   ],
   "source": [
    "model.evaluate(testData, testLabels, verbose=0)"
   ]
  },
  {
   "cell_type": "code",
   "execution_count": null,
   "id": "f6e12930",
   "metadata": {},
   "outputs": [],
   "source": []
  }
 ],
 "metadata": {
  "kernelspec": {
   "display_name": "tf2.x",
   "language": "python",
   "name": "tf2.x"
  },
  "language_info": {
   "codemirror_mode": {
    "name": "ipython",
    "version": 3
   },
   "file_extension": ".py",
   "mimetype": "text/x-python",
   "name": "python",
   "nbconvert_exporter": "python",
   "pygments_lexer": "ipython3",
   "version": "3.8.12"
  }
 },
 "nbformat": 4,
 "nbformat_minor": 5
}
