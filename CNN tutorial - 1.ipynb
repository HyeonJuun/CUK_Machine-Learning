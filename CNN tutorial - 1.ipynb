{
 "cells": [
  {
   "cell_type": "code",
   "execution_count": 1,
   "id": "21b0526a",
   "metadata": {},
   "outputs": [
    {
     "name": "stdout",
     "output_type": "stream",
     "text": [
      "2.4.0\n"
     ]
    }
   ],
   "source": [
    "try:\n",
    "    %tensorflow_version 2.x\n",
    "except Exception:\n",
    "    pass\n",
    "import tensorflow as tf\n",
    "import numpy as np\n",
    "import matplotlib.pyplot as plt\n",
    "\n",
    "print(tf.__version__)"
   ]
  },
  {
   "cell_type": "code",
   "execution_count": 3,
   "id": "d88b3b31",
   "metadata": {},
   "outputs": [],
   "source": [
    "# Conv2D 레이어 생성 코드\n",
    "# padding : 경계 처리 방법 정의\n",
    "# 'valid' : 유효한 영역만 출력 (출력 이미지 사이즈 감소)\n",
    "# 'same' : 출력 이미지 사이즈가 입력 이미지 사이즈와 동일\n",
    "conv1 = tf.keras.layers.Conv2D(kernel_size=(3,3), strides=(2,2), padding='valid', filters=16)"
   ]
  },
  {
   "cell_type": "code",
   "execution_count": 4,
   "id": "3ae018de",
   "metadata": {},
   "outputs": [],
   "source": [
    "# MaxPool2D 레이어 생성 코드\n",
    "# pool_size : 수직, 수평 축소 비율\n",
    "pool1 = tf.keras.layers.MaxPool2D(pool_size=(2,2), strides=(2,2))"
   ]
  },
  {
   "cell_type": "code",
   "execution_count": 5,
   "id": "b86a62c6",
   "metadata": {},
   "outputs": [],
   "source": [
    "# Dropout 레이어 생성 코드\n",
    "dropout = tf.keras.layers.Dropout(rate=0.3)"
   ]
  },
  {
   "cell_type": "code",
   "execution_count": 13,
   "id": "5379e7c2",
   "metadata": {},
   "outputs": [],
   "source": [
    "# Batch Normalization 생성 코드\n",
    "bn_model = tf.keras.Sequential([\n",
    "    tf.keras.layers.Dense(64, input_shape=(4,), activation=\"relu\"),\n",
    "    tf.keras.layers.BatchNormalization(),\n",
    "    tf.keras.layers.Dense(128, activation='relu'),\n",
    "    tf.keras.layers.Dense(3, activation='softmax')\n",
    "]);"
   ]
  },
  {
   "cell_type": "markdown",
   "id": "64a4631e",
   "metadata": {},
   "source": [
    "## MNIST with CNN"
   ]
  },
  {
   "cell_type": "code",
   "execution_count": null,
   "id": "1c143f1e",
   "metadata": {},
   "outputs": [],
   "source": [
    "data = tf.keras.datasets.mnist\n",
    "#"
   ]
  }
 ],
 "metadata": {
  "kernelspec": {
   "display_name": "tf2.x",
   "language": "python",
   "name": "tf2.x"
  },
  "language_info": {
   "codemirror_mode": {
    "name": "ipython",
    "version": 3
   },
   "file_extension": ".py",
   "mimetype": "text/x-python",
   "name": "python",
   "nbconvert_exporter": "python",
   "pygments_lexer": "ipython3",
   "version": "3.8.12"
  }
 },
 "nbformat": 4,
 "nbformat_minor": 5
}
