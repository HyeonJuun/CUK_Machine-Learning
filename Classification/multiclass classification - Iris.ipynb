{
 "cells": [
  {
   "cell_type": "code",
   "execution_count": 1,
   "id": "2a90a50a",
   "metadata": {},
   "outputs": [
    {
     "name": "stdout",
     "output_type": "stream",
     "text": [
      "2.4.0\n"
     ]
    }
   ],
   "source": [
    "import tensorflow as tf\n",
    "import numpy as np\n",
    "import matplotlib.pyplot as plt\n",
    "from sklearn.datasets import load_iris\n",
    "from sklearn.model_selection import train_test_split\n",
    "\n",
    "\n",
    "print(tf.__version__)"
   ]
  },
  {
   "cell_type": "code",
   "execution_count": 10,
   "id": "c4e9cdad",
   "metadata": {},
   "outputs": [
    {
     "name": "stdout",
     "output_type": "stream",
     "text": [
      "dict_keys(['data', 'target', 'frame', 'target_names', 'DESCR', 'feature_names', 'filename'])\n",
      "(150, 4)\n",
      "(150,)\n",
      "(120, 4)\n",
      "(30, 4)\n"
     ]
    }
   ],
   "source": [
    "# iris 데이터셋 활용\n",
    "iris = load_iris()\n",
    "\n",
    "#데이터 확인\n",
    "print(iris.keys())\n",
    "\n",
    "#input, output 분리\n",
    "X = iris['data']\n",
    "y = iris['target']\n",
    "\n",
    "print(X.shape)\n",
    "print(y.shape)\n",
    "\n",
    "#개발/검증 분리\n",
    "#stratify : y라벨 비중 유지\n",
    "trainX, testX, trainY, testY = train_test_split(X, y, test_size=0.2, stratify=y, random_state=1)\n",
    "print(trainX.shape)\n",
    "print(testX.shape)"
   ]
  },
  {
   "cell_type": "code",
   "execution_count": 11,
   "id": "4b3d1cd4",
   "metadata": {},
   "outputs": [
    {
     "name": "stdout",
     "output_type": "stream",
     "text": [
      "Model: \"sequential_6\"\n",
      "_________________________________________________________________\n",
      "Layer (type)                 Output Shape              Param #   \n",
      "=================================================================\n",
      "dense_11 (Dense)             (None, 6)                 30        \n",
      "_________________________________________________________________\n",
      "dense_12 (Dense)             (None, 3)                 21        \n",
      "=================================================================\n",
      "Total params: 51\n",
      "Trainable params: 51\n",
      "Non-trainable params: 0\n",
      "_________________________________________________________________\n",
      "Epoch 1/30\n",
      "4/4 [==============================] - 0s 997us/step - loss: 1.6018 - accuracy: 0.2967\n",
      "Epoch 2/30\n",
      "4/4 [==============================] - 0s 998us/step - loss: 1.3084 - accuracy: 0.3378\n",
      "Epoch 3/30\n",
      "4/4 [==============================] - 0s 997us/step - loss: 1.1583 - accuracy: 0.3233\n",
      "Epoch 4/30\n",
      "4/4 [==============================] - 0s 1ms/step - loss: 1.0660 - accuracy: 0.5789\n",
      "Epoch 5/30\n",
      "4/4 [==============================] - 0s 997us/step - loss: 1.0333 - accuracy: 0.5667\n",
      "Epoch 6/30\n",
      "4/4 [==============================] - 0s 1ms/step - loss: 1.0318 - accuracy: 0.5478\n",
      "Epoch 7/30\n",
      "4/4 [==============================] - 0s 996us/step - loss: 0.9983 - accuracy: 0.6356\n",
      "Epoch 8/30\n",
      "4/4 [==============================] - 0s 997us/step - loss: 0.9610 - accuracy: 0.6478\n",
      "Epoch 9/30\n",
      "4/4 [==============================] - 0s 998us/step - loss: 0.8946 - accuracy: 0.6767\n",
      "Epoch 10/30\n",
      "4/4 [==============================] - 0s 1ms/step - loss: 0.8604 - accuracy: 0.6856\n",
      "Epoch 11/30\n",
      "4/4 [==============================] - 0s 997us/step - loss: 0.8152 - accuracy: 0.6389\n",
      "Epoch 12/30\n",
      "4/4 [==============================] - 0s 1ms/step - loss: 0.7725 - accuracy: 0.6878\n",
      "Epoch 13/30\n",
      "4/4 [==============================] - 0s 992us/step - loss: 0.7248 - accuracy: 0.7200\n",
      "Epoch 14/30\n",
      "4/4 [==============================] - 0s 997us/step - loss: 0.6918 - accuracy: 0.6944\n",
      "Epoch 15/30\n",
      "4/4 [==============================] - 0s 1ms/step - loss: 0.6570 - accuracy: 0.6878\n",
      "Epoch 16/30\n",
      "4/4 [==============================] - 0s 993us/step - loss: 0.6385 - accuracy: 0.7056\n",
      "Epoch 17/30\n",
      "4/4 [==============================] - 0s 1ms/step - loss: 0.5934 - accuracy: 0.7600\n",
      "Epoch 18/30\n",
      "4/4 [==============================] - 0s 1ms/step - loss: 0.6089 - accuracy: 0.7544\n",
      "Epoch 19/30\n",
      "4/4 [==============================] - 0s 997us/step - loss: 0.5792 - accuracy: 0.8467\n",
      "Epoch 20/30\n",
      "4/4 [==============================] - 0s 1ms/step - loss: 0.5450 - accuracy: 0.8567\n",
      "Epoch 21/30\n",
      "4/4 [==============================] - 0s 1ms/step - loss: 0.5294 - accuracy: 0.8222\n",
      "Epoch 22/30\n",
      "4/4 [==============================] - 0s 1ms/step - loss: 0.5257 - accuracy: 0.8111\n",
      "Epoch 23/30\n",
      "4/4 [==============================] - 0s 998us/step - loss: 0.4833 - accuracy: 0.9067\n",
      "Epoch 24/30\n",
      "4/4 [==============================] - 0s 661us/step - loss: 0.5006 - accuracy: 0.9322\n",
      "Epoch 25/30\n",
      "4/4 [==============================] - 0s 1ms/step - loss: 0.4664 - accuracy: 0.9033\n",
      "Epoch 26/30\n",
      "4/4 [==============================] - 0s 1ms/step - loss: 0.4462 - accuracy: 0.9244\n",
      "Epoch 27/30\n",
      "4/4 [==============================] - 0s 997us/step - loss: 0.4374 - accuracy: 0.8944\n",
      "Epoch 28/30\n",
      "4/4 [==============================] - 0s 997us/step - loss: 0.4211 - accuracy: 0.9422\n",
      "Epoch 29/30\n",
      "4/4 [==============================] - 0s 1ms/step - loss: 0.4306 - accuracy: 0.9544\n",
      "Epoch 30/30\n",
      "4/4 [==============================] - 0s 997us/step - loss: 0.4239 - accuracy: 0.9522\n"
     ]
    }
   ],
   "source": [
    "#빈 모델을 선언\n",
    "model = tf.keras.models.Sequential()\n",
    "\n",
    "#빈 모델에 첫번째 layer를 추가\n",
    "# units에는 hidden node 갯수를 명시하고 input 차원에 train 데이터의 차원을 입력\n",
    "model.add(tf.keras.layers.Dense(units=6, input_dim=trainX.shape[1], activation='tanh'))\n",
    "model.add(tf.keras.layers.Dense(units=3, activation='softmax'))\n",
    "\n",
    "optimizer=tf.keras.optimizers.SGD(learning_rate=0.01, momentum=0.9, nesterov=True)\n",
    "model.compile(optimizer=optimizer, loss='categorical_crossentropy', metrics=['accuracy'])\n",
    "model.summary()\n",
    "\n",
    "trainY_onehot = tf.keras.utils.to_categorical(trainY)\n",
    "history = model.fit(trainX, trainY_onehot, epochs=30, batch_size =30)"
   ]
  },
  {
   "cell_type": "code",
   "execution_count": 12,
   "id": "a620b7b1",
   "metadata": {},
   "outputs": [
    {
     "name": "stdout",
     "output_type": "stream",
     "text": [
      "1/1 [==============================] - 0s 90ms/step - loss: 0.4134 - accuracy: 0.9667\n"
     ]
    }
   ],
   "source": [
    "testY_onehot = tf.keras.utils.to_categorical(testY)\n",
    "results = model.evaluate(testX, testY_onehot)"
   ]
  },
  {
   "cell_type": "code",
   "execution_count": null,
   "id": "e4a1c5be",
   "metadata": {},
   "outputs": [],
   "source": []
  }
 ],
 "metadata": {
  "kernelspec": {
   "display_name": "tf2.x",
   "language": "python",
   "name": "tf2.x"
  },
  "language_info": {
   "codemirror_mode": {
    "name": "ipython",
    "version": 3
   },
   "file_extension": ".py",
   "mimetype": "text/x-python",
   "name": "python",
   "nbconvert_exporter": "python",
   "pygments_lexer": "ipython3",
   "version": "3.8.8"
  }
 },
 "nbformat": 4,
 "nbformat_minor": 5
}
